{
 "cells": [
  {
   "cell_type": "code",
   "execution_count": 1,
   "metadata": {},
   "outputs": [],
   "source": [
    "import cv2\n",
    "import numpy as np\n",
    "import matplotlib.pyplot as plt"
   ]
  },
  {
   "cell_type": "code",
   "execution_count": 2,
   "metadata": {},
   "outputs": [],
   "source": [
    "face_class=cv2.CascadeClassifier('Downloads/Unlock-Application-master/Haarcascades/haarcascade_frontalface_default.xml')"
   ]
  },
  {
   "cell_type": "code",
   "execution_count": 3,
   "metadata": {},
   "outputs": [],
   "source": [
    "def detect_face(myimg):\n",
    "    face_img=myimg.copy()\n",
    "    \n",
    "    face_rect=face_class.detectMultiScale(face_img)\n",
    "    \n",
    "    for (x,y,w,h) in face_rect:\n",
    "        cv2.rectangle(face_img,(x,y),(x+w,y+h),(0,0,255),3)\n",
    "        \n",
    "    return face_img"
   ]
  },
  {
   "cell_type": "code",
   "execution_count": null,
   "metadata": {},
   "outputs": [],
   "source": [
    "#Face Detection\n",
    "\n",
    "cap=cv2.VideoCapture(0)\n",
    "\n",
    "while(cap.isOpened()):\n",
    "    \n",
    "    ret,frame=cap.read()\n",
    "    \n",
    "    if ret:\n",
    "        \n",
    "        returned_face=detect_face(frame)\n",
    "        \n",
    "        cv2.imshow('Face Detection',returned_face)\n",
    "        \n",
    "        if cv2.waitKey(1) & 0xFF == ord('q'):\n",
    "            break\n",
    "    \n",
    "    \n",
    "    else:\n",
    "        break\n",
    "        \n",
    "cap.release()\n",
    "cv2.destroyAllWindows()"
   ]
  },
  {
   "cell_type": "code",
   "execution_count": null,
   "metadata": {},
   "outputs": [],
   "source": []
  }
 ],
 "metadata": {
  "kernelspec": {
   "display_name": "Python (myenv)",
   "language": "python",
   "name": "p27"
  },
  "language_info": {
   "codemirror_mode": {
    "name": "ipython",
    "version": 3
   },
   "file_extension": ".py",
   "mimetype": "text/x-python",
   "name": "python",
   "nbconvert_exporter": "python",
   "pygments_lexer": "ipython3",
   "version": "3.6.5"
  }
 },
 "nbformat": 4,
 "nbformat_minor": 2
}
